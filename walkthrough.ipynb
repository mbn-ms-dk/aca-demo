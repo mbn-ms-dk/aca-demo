{
 "cells": [
  {
   "cell_type": "markdown",
   "metadata": {},
   "source": [
    "# Container Apps\n",
    "\n",
    "This notebook contains 2 demos showcasing Container Apps\n",
    "\n",
    "--------------------\n",
    "\n",
    "## Demo 1 - Simple setup with **microservices** and **Dapr** communication\n",
    "\n",
    "Prerequisites\n",
    "\n",
    "----\n",
    "\n",
    "* [Azure Subscription](https://azure.microsoft.com/en-au/free/)\n",
    "* [Azure CLI](https://docs.microsoft.com/en-us/cli/azure/install-azure-cli)\n",
    "* [k6](https://k6.io/docs/getting-started/installation/) for generating orders\n",
    "\n",
    "---\n",
    "Architecture\n",
    "\n",
    "\n",
    "![](./node-python/img/Architecture_Diagram.png)\n",
    "\n",
    "\n",
    "  "
   ]
  },
  {
   "cell_type": "markdown",
   "metadata": {},
   "source": [
    "First we setup base resources:\n",
    "```bash\n",
    "\n",
    "name=aca$(cat /dev/urandom | tr -dc '[:lower:]' | fold -w ${1:-5} | head -n 1)\n",
    "resourceGroup=\"rg-nodepython-${name}\"\n",
    "location=\"northeurope\"\n",
    "acaEnv=\"env-${name}\"\n",
    "```"
   ]
  },
  {
   "cell_type": "markdown",
   "metadata": {},
   "source": [
    "```bash\n",
    "az login\n",
    "\n",
    "az extension add --name containerapp\n",
    "az provider register --namespace Microsoft.App\n",
    "az provider show -n Microsoft.App --query registrationState\n",
    "\n",
    "az group create \\\n",
    "  --name $resourceGroup \\\n",
    "  --location \"$location\"\n",
    "\n",
    "az deployment group create \\\n",
    "  --name env-create \\\n",
    "  -g $resourceGroup \\\n",
    "  --template-file ./environment.bicep \\\n",
    "  --parameters environmentName=$acaEnv\n",
    "\n",
    "az containerapp env list -o table\n",
    "az containerapp env show -n $acaEnv -g $resourceGroup\n",
    "az containerapp env dapr-component list -n $acaEnv -g $resourceGroup -o table\n",
    "az containerapp env dapr-component show -n $acaEnv -g $resourceGroup --dapr-component-name statestore\n",
    "\n",
    "deployOutputs=$(az deployment group show --name env-create -g $resourceGroup --query properties.outputs)\n",
    "\n",
    "acrUserName=$(echo $deployOutputs | jq -r .acrUserName.value)\n",
    "acrPassword=$(echo $deployOutputs | jq -r .acrPassword.value)\n",
    "acrloginServer=$(echo $deployOutputs | jq -r .acrloginServer.value)\n",
    "acrName=$(echo $ACR_LOGIN_SERVER | cut -f1,1 -d .)\n",
    "workspaceId=$(echo $deployOutputs | jq -r .workspaceId.value)\n",
    "```"
   ]
  },
  {
   "cell_type": "markdown",
   "metadata": {},
   "source": [
    "\n",
    "## Create new container images \n",
    "When published, go to the nodeapp ingress URL/ports to see version\n",
    "\n",
    "---\n",
    "```bash\n",
    "\n",
    "cd containers/node\n",
    "\n",
    "az acr build --image hello-aca-node:v1 \\\n",
    "  --registry $acrName \\\n",
    "  --file Dockerfile .\n",
    "\n",
    "cd ../python\n",
    "\n",
    "az acr build --image hello-aca-python:v1 \\\n",
    "  --registry $acrName \\\n",
    "  --file Dockerfile .\n",
    "  ```"
   ]
  }
 ],
 "metadata": {
  "kernelspec": {
   "display_name": "Python 3.10.6 64-bit",
   "language": "python",
   "name": "python3"
  },
  "language_info": {
   "name": "python",
   "version": "3.10.6"
  },
  "orig_nbformat": 4,
  "vscode": {
   "interpreter": {
    "hash": "53f83f27ed108a04da727b8c6ac4e52fc655fd2c02172f7fd2c049f3e28bb433"
   }
  }
 },
 "nbformat": 4,
 "nbformat_minor": 2
}
