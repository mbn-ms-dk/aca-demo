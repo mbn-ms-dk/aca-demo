{
 "cells": [
  {
   "cell_type": "code",
   "execution_count": null,
   "metadata": {
    "dotnet_interactive": {
     "language": "csharp"
    },
    "vscode": {
     "languageId": "dotnet-interactive.csharp"
    }
   },
   "outputs": [
    {
     "name": "stdout",
     "output_type": "stream",
     "text": [
      "WSL\r\n",
      "\r\n",
      "\r\n",
      "\r\n"
     ]
    }
   ],
   "source": [
    "using System.Diagnostics;\n",
    "Console.WriteLine(\"WSL\");\n",
    "var commandToExecute = \"name=aca$(cat /dev/urandom | tr -dc '[:lower:]' | fold -w ${1:-5} | head -n 1)\";\n",
    "using (var proc = new Process\n",
    "{\n",
    "    StartInfo = new ProcessStartInfo {\n",
    "        FileName = \"bash\",\n",
    "        Arguments = $\"-c {commandToExecute}\",\n",
    "        UseShellExecute = false,\n",
    "        RedirectStandardOutput = true,\n",
    "        RedirectStandardInput = true,\n",
    "        CreateNoWindow = true\n",
    "    },\n",
    "    EnableRaisingEvents = true\n",
    "})\n",
    "{\n",
    "    proc.Start();\n",
    "    // proc.StandardInput.WriteLine(\"wsl\");\n",
    "                System.Threading.Thread.Sleep(500); // give some time for command to execute\n",
    "                Console.WriteLine(proc.StandardOutput.ReadToEnd());\n",
    "                proc.StandardInput.WriteLine(\"echo ${name}\");\n",
    "                Console.WriteLine(proc.StandardOutput.ReadToEnd());\n",
    "                proc.StandardInput.Flush();\n",
    "                proc.StandardInput.Close();\n",
    "                proc.WaitForExit(); // wait up to 5 seconds for command to execute\n",
    "               \n",
    "                Console.WriteLine(proc.StandardOutput.ReadToEnd());\n",
    "                Console.ReadLine();\n",
    "}"
   ]
  }
 ],
 "metadata": {
  "kernelspec": {
   "display_name": ".NET (C#)",
   "language": "C#",
   "name": ".net-csharp"
  },
  "language_info": {
   "name": "C#"
  }
 },
 "nbformat": 4,
 "nbformat_minor": 2
}
